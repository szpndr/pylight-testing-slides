{
 "cells": [
  {
   "cell_type": "markdown",
   "metadata": {
    "slideshow": {
     "slide_type": "slide"
    }
   },
   "source": [
    "# Wprowadzenie do testowania w Pythonie\n",
    "## Jakub Szponder\n",
    "### 01.02.2018, PyLight"
   ]
  },
  {
   "cell_type": "markdown",
   "metadata": {
    "slideshow": {
     "slide_type": "slide"
    }
   },
   "source": [
    "<img src=\"http://wp.straal.com/wp-content/uploads/2017/10/Straal_logo.png\" width=\"400\"><br>"
   ]
  },
  {
   "cell_type": "markdown",
   "metadata": {
    "slideshow": {
     "slide_type": "subslide"
    }
   },
   "source": [
    "<img src=\"https://bulldogjob.pl/system/companies/logos/000/000/250/original/logo.png\" width=\"600\">"
   ]
  },
  {
   "cell_type": "markdown",
   "metadata": {
    "slideshow": {
     "slide_type": "subslide"
    }
   },
   "source": [
    "<img src=\"https://scontent-frx5-1.xx.fbcdn.net/v/t1.0-9/22090135_1114125902058200_7509158115550928259_n.jpg?oh=489d42977bf5ecd85cf9ded64466f5bc&oe=5ADE3623\">"
   ]
  },
  {
   "cell_type": "markdown",
   "metadata": {
    "slideshow": {
     "slide_type": "slide"
    }
   },
   "source": [
    "# Testowanie"
   ]
  },
  {
   "cell_type": "markdown",
   "metadata": {
    "slideshow": {
     "slide_type": "fragment"
    }
   },
   "source": [
    "- uruchamianie kodu programu w celu sprawdzenia czy zachowuje się tak jak byśmy chcieli"
   ]
  },
  {
   "cell_type": "markdown",
   "metadata": {
    "slideshow": {
     "slide_type": "subslide"
    }
   },
   "source": [
    "### Program testing can be used to show the presence of bugs, but never to show their absence!\n",
    "Edsker D. Dijkstra (1970)"
   ]
  },
  {
   "cell_type": "markdown",
   "metadata": {
    "slideshow": {
     "slide_type": "slide"
    }
   },
   "source": [
    "# Dlaczego testowanie jest ważne?"
   ]
  },
  {
   "cell_type": "markdown",
   "metadata": {
    "slideshow": {
     "slide_type": "fragment"
    }
   },
   "source": [
    "- bo wszyscy robimy błędy"
   ]
  },
  {
   "cell_type": "markdown",
   "metadata": {
    "slideshow": {
     "slide_type": "slide"
    }
   },
   "source": [
    "# Dlaczego testowanie w Pythonie jest szczególnie ważne?"
   ]
  },
  {
   "cell_type": "code",
   "execution_count": 1,
   "metadata": {
    "slideshow": {
     "slide_type": "fragment"
    }
   },
   "outputs": [],
   "source": [
    "def get_total_price_for_tickets(n, with_student_discount=False):\n",
    "    if not with_student_discount:\n",
    "        return n * 20\n",
    "    else:\n",
    "        return m * 15"
   ]
  },
  {
   "cell_type": "code",
   "execution_count": 2,
   "metadata": {
    "slideshow": {
     "slide_type": "fragment"
    }
   },
   "outputs": [
    {
     "data": {
      "text/plain": [
       "80"
      ]
     },
     "execution_count": 2,
     "metadata": {},
     "output_type": "execute_result"
    }
   ],
   "source": [
    "# Policzmy ile będą nas kosztować 4 bilety bez zniżki\n",
    "get_total_price_for_tickets(4, False)"
   ]
  },
  {
   "cell_type": "code",
   "execution_count": 3,
   "metadata": {
    "slideshow": {
     "slide_type": "subslide"
    }
   },
   "outputs": [
    {
     "ename": "NameError",
     "evalue": "name 'm' is not defined",
     "output_type": "error",
     "traceback": [
      "\u001b[0;31m---------------------------------------------------------------------------\u001b[0m",
      "\u001b[0;31mNameError\u001b[0m                                 Traceback (most recent call last)",
      "\u001b[0;32m<ipython-input-3-ac22040df276>\u001b[0m in \u001b[0;36m<module>\u001b[0;34m()\u001b[0m\n\u001b[1;32m      1\u001b[0m \u001b[0;31m# Policzmy ile nas będą kosztować 4 bilety ze zniżką\u001b[0m\u001b[0;34m\u001b[0m\u001b[0;34m\u001b[0m\u001b[0m\n\u001b[0;32m----> 2\u001b[0;31m \u001b[0mget_total_price_for_tickets\u001b[0m\u001b[0;34m(\u001b[0m\u001b[0;36m4\u001b[0m\u001b[0;34m,\u001b[0m \u001b[0;32mTrue\u001b[0m\u001b[0;34m)\u001b[0m\u001b[0;34m\u001b[0m\u001b[0m\n\u001b[0m",
      "\u001b[0;32m<ipython-input-1-2b3e3dc4e47d>\u001b[0m in \u001b[0;36mget_total_price_for_tickets\u001b[0;34m(n, with_student_discount)\u001b[0m\n\u001b[1;32m      3\u001b[0m         \u001b[0;32mreturn\u001b[0m \u001b[0mn\u001b[0m \u001b[0;34m*\u001b[0m \u001b[0;36m20\u001b[0m\u001b[0;34m\u001b[0m\u001b[0m\n\u001b[1;32m      4\u001b[0m     \u001b[0;32melse\u001b[0m\u001b[0;34m:\u001b[0m\u001b[0;34m\u001b[0m\u001b[0m\n\u001b[0;32m----> 5\u001b[0;31m         \u001b[0;32mreturn\u001b[0m \u001b[0mm\u001b[0m \u001b[0;34m*\u001b[0m \u001b[0;36m15\u001b[0m\u001b[0;34m\u001b[0m\u001b[0m\n\u001b[0m",
      "\u001b[0;31mNameError\u001b[0m: name 'm' is not defined"
     ]
    }
   ],
   "source": [
    "# Policzmy ile nas będą kosztować 4 bilety ze zniżką\n",
    "get_total_price_for_tickets(4, True)"
   ]
  },
  {
   "cell_type": "markdown",
   "metadata": {
    "slideshow": {
     "slide_type": "subslide"
    }
   },
   "source": [
    "Język nie broni nas przed zrobieniem sobie krzywdy :("
   ]
  },
  {
   "cell_type": "code",
   "execution_count": 4,
   "metadata": {
    "slideshow": {
     "slide_type": "fragment"
    }
   },
   "outputs": [],
   "source": [
    "# Dobra wersja\n",
    "def get_total_price_for_tickets(n, with_student_discount=False):\n",
    "    if not with_student_discount:\n",
    "        return n * 20\n",
    "    else:\n",
    "        return n * 15  # <- zamienilismy m na n"
   ]
  },
  {
   "cell_type": "code",
   "execution_count": 5,
   "metadata": {
    "slideshow": {
     "slide_type": "fragment"
    }
   },
   "outputs": [
    {
     "data": {
      "text/plain": [
       "60"
      ]
     },
     "execution_count": 5,
     "metadata": {},
     "output_type": "execute_result"
    }
   ],
   "source": [
    "# Policzmy ile nas będą kosztować 4 bilety ze zniżką\n",
    "get_total_price_for_tickets(4, True)"
   ]
  },
  {
   "cell_type": "markdown",
   "metadata": {
    "slideshow": {
     "slide_type": "slide"
    }
   },
   "source": [
    "# Testy automatyczne\n",
    "- dodatkowe fragmenty kodu, które uruchamiają główny kod, a następnie porównują wynik z oczekiwanym\n",
    "- szybkie\n",
    "- powtarzalne"
   ]
  },
  {
   "cell_type": "markdown",
   "metadata": {
    "slideshow": {
     "slide_type": "subslide"
    }
   },
   "source": [
    "# Konstrukcja testu"
   ]
  },
  {
   "cell_type": "code",
   "execution_count": null,
   "metadata": {
    "slideshow": {
     "slide_type": "fragment"
    }
   },
   "outputs": [],
   "source": [
    "def test_something():\n",
    "    # GIVEN\n",
    "    x = prepare_some_data_1()\n",
    "    y = prepare_some_data_2()\n",
    "    \n",
    "    # WHEN\n",
    "    result = run_tested_code(x, y)\n",
    "    \n",
    "    # THEN\n",
    "    check_if_result_equals_expected_result(result, expected_result)"
   ]
  },
  {
   "cell_type": "code",
   "execution_count": 6,
   "metadata": {
    "slideshow": {
     "slide_type": "subslide"
    }
   },
   "outputs": [],
   "source": [
    "def test_get_total_price_for_tickets_for_4_students():\n",
    "    number_of_people = 4\n",
    "    has_student_discount = True\n",
    "    \n",
    "    result = get_total_price_for_tickets(number_of_people, has_student_discount)\n",
    "    \n",
    "    assert result == 60"
   ]
  },
  {
   "cell_type": "markdown",
   "metadata": {
    "slideshow": {
     "slide_type": "slide"
    }
   },
   "source": [
    "# assert"
   ]
  },
  {
   "cell_type": "code",
   "execution_count": null,
   "metadata": {
    "slideshow": {
     "slide_type": "fragment"
    }
   },
   "outputs": [],
   "source": [
    "assert condition"
   ]
  },
  {
   "cell_type": "code",
   "execution_count": 7,
   "metadata": {
    "slideshow": {
     "slide_type": "subslide"
    }
   },
   "outputs": [],
   "source": [
    "assert True"
   ]
  },
  {
   "cell_type": "code",
   "execution_count": 8,
   "metadata": {
    "slideshow": {
     "slide_type": "fragment"
    }
   },
   "outputs": [
    {
     "ename": "AssertionError",
     "evalue": "",
     "output_type": "error",
     "traceback": [
      "\u001b[0;31m---------------------------------------------------------------------------\u001b[0m",
      "\u001b[0;31mAssertionError\u001b[0m                            Traceback (most recent call last)",
      "\u001b[0;32m<ipython-input-8-a871fdc9ebee>\u001b[0m in \u001b[0;36m<module>\u001b[0;34m()\u001b[0m\n\u001b[0;32m----> 1\u001b[0;31m \u001b[0;32massert\u001b[0m \u001b[0;32mFalse\u001b[0m\u001b[0;34m\u001b[0m\u001b[0m\n\u001b[0m",
      "\u001b[0;31mAssertionError\u001b[0m: "
     ]
    }
   ],
   "source": [
    "assert False"
   ]
  },
  {
   "cell_type": "code",
   "execution_count": null,
   "metadata": {
    "slideshow": {
     "slide_type": "subslide"
    }
   },
   "outputs": [],
   "source": [
    "# Dla uproszczenia można sobie wyobrazić, że assert robi coś takiego:\n",
    "if not condition:\n",
    "    raise AssertionError()"
   ]
  },
  {
   "cell_type": "code",
   "execution_count": 9,
   "metadata": {
    "slideshow": {
     "slide_type": "subslide"
    }
   },
   "outputs": [],
   "source": [
    "assert 'something'"
   ]
  },
  {
   "cell_type": "code",
   "execution_count": 10,
   "metadata": {
    "slideshow": {
     "slide_type": "fragment"
    }
   },
   "outputs": [
    {
     "ename": "AssertionError",
     "evalue": "",
     "output_type": "error",
     "traceback": [
      "\u001b[0;31m---------------------------------------------------------------------------\u001b[0m",
      "\u001b[0;31mAssertionError\u001b[0m                            Traceback (most recent call last)",
      "\u001b[0;32m<ipython-input-10-690083fb787f>\u001b[0m in \u001b[0;36m<module>\u001b[0;34m()\u001b[0m\n\u001b[0;32m----> 1\u001b[0;31m \u001b[0;32massert\u001b[0m \u001b[0;32mNone\u001b[0m\u001b[0;34m\u001b[0m\u001b[0m\n\u001b[0m",
      "\u001b[0;31mAssertionError\u001b[0m: "
     ]
    }
   ],
   "source": [
    "assert None"
   ]
  },
  {
   "cell_type": "markdown",
   "metadata": {
    "slideshow": {
     "slide_type": "slide"
    }
   },
   "source": [
    "# Uruchamianie testów"
   ]
  },
  {
   "cell_type": "markdown",
   "metadata": {
    "slideshow": {
     "slide_type": "fragment"
    }
   },
   "source": [
    "### Framework do testowania:\n",
    "- ułatwia pisanie i organizację testów\n",
    "- daje narzędzie do wyszukiwania i odpalania testów\n",
    "- wyświetla wyniki w ładnej formie"
   ]
  },
  {
   "cell_type": "markdown",
   "metadata": {
    "slideshow": {
     "slide_type": "subslide"
    }
   },
   "source": [
    "# Frameworki\n",
    "- unittest\n",
    "- nosetests\n",
    "- __pytest__"
   ]
  },
  {
   "cell_type": "markdown",
   "metadata": {
    "slideshow": {
     "slide_type": "subslide"
    }
   },
   "source": [
    "# pytest\n",
    "- zewnętrzna biblioteka instalowana za pomocą komendy __pip install pytest__"
   ]
  },
  {
   "cell_type": "markdown",
   "metadata": {
    "slideshow": {
     "slide_type": "fragment"
    }
   },
   "source": [
    "- testy uruchamiane są za pomocą wywołania komendy __pytest__ w odpowiednim katalogu\n",
    "- można uruchamiać też wybrany moduł z testami __pytest nazwa_pliku.py__\n",
    "- __pytest__ wyszukuje testy po nazwach, domyślnie\n",
    "  * moduły o nazwach test_\\*.py lub \\*_test.py\n",
    "  * klasy o nazwach Test*\n",
    "  * funkcje o nazwach test_*\n",
    "- uruchamia je i zwraca ładny kolorowy wynik\n"
   ]
  },
  {
   "cell_type": "markdown",
   "metadata": {
    "slideshow": {
     "slide_type": "slide"
    }
   },
   "source": [
    "### Zadanie\n",
    "\n",
    "Napisać funkcję `to_uppercase`, która przyjmuje napis i zwraca napis, w którym wszystkie litery zamienione są na wielkie.\n",
    "\n",
    "Np.\n",
    "```\n",
    "to_uppercase('Hello')\n",
    "```\n",
    "zwraca `'HELLO'`. \n",
    "\n",
    "W przypadku podania do funkcji argumentu typu integer zwrócić `AttributeError`."
   ]
  },
  {
   "cell_type": "code",
   "execution_count": 11,
   "metadata": {
    "slideshow": {
     "slide_type": "subslide"
    }
   },
   "outputs": [],
   "source": [
    "# to_uppercase.py\n",
    "def to_uppercase(word):\n",
    "    return word.upper()\n",
    "\n",
    "# test_to_uppercase.py\n",
    "def test_uppercase_hello():\n",
    "    result = to_uppercase('Hello')\n",
    "\n",
    "    assert result == 'HELLO'"
   ]
  },
  {
   "cell_type": "markdown",
   "metadata": {
    "slideshow": {
     "slide_type": "subslide"
    }
   },
   "source": [
    "<img src=\"to_uppercase_success.png\">"
   ]
  },
  {
   "cell_type": "markdown",
   "metadata": {
    "slideshow": {
     "slide_type": "subslide"
    }
   },
   "source": [
    "<img src=\"to_uppercase_failure.png\">"
   ]
  },
  {
   "cell_type": "markdown",
   "metadata": {
    "slideshow": {
     "slide_type": "subslide"
    }
   },
   "source": [
    "# Sprawdzanie, czy kod zwraca oczekiwany wyjątek"
   ]
  },
  {
   "cell_type": "code",
   "execution_count": 12,
   "metadata": {
    "slideshow": {
     "slide_type": "fragment"
    }
   },
   "outputs": [],
   "source": [
    "# test_to_uppercase.py\n",
    "import pytest\n",
    "\n",
    "def test_uppercase_raises_error_for_number():\n",
    "    with pytest.raises(AttributeError):\n",
    "        result = to_uppercase(3)"
   ]
  },
  {
   "cell_type": "markdown",
   "metadata": {
    "slideshow": {
     "slide_type": "subslide"
    }
   },
   "source": [
    "<img src=\"to_uppercase_success_raises.png\">"
   ]
  },
  {
   "cell_type": "markdown",
   "metadata": {
    "slideshow": {
     "slide_type": "subslide"
    }
   },
   "source": [
    "<img src=\"to_uppercase_failure_raises.png\">"
   ]
  },
  {
   "cell_type": "markdown",
   "metadata": {
    "slideshow": {
     "slide_type": "slide"
    }
   },
   "source": [
    "### Zadanie\n",
    "\n",
    "Napisać funkcję `get_bonus_points`, która symuluje rzut kostką, a następnie zwraca `1` jeżeli wypadła szóstka i `0` jeżeli wypadło coś innego."
   ]
  },
  {
   "cell_type": "markdown",
   "metadata": {
    "slideshow": {
     "slide_type": "subslide"
    }
   },
   "source": [
    "# Mock\n",
    "- zachowuje się jak dowolny obiekt\n",
    "- możemy wymusić na nim oczekiwane zachowanie\n",
    "- zapisuje jakie akcje są na nim wykonywane \n",
    "- można na nim wywoływać asserty\n"
   ]
  },
  {
   "cell_type": "code",
   "execution_count": 13,
   "metadata": {
    "slideshow": {
     "slide_type": "subslide"
    }
   },
   "outputs": [
    {
     "name": "stdout",
     "output_type": "stream",
     "text": [
      "Przed mockowaniem\n",
      "1\n",
      "5\n",
      "6\n",
      "Zamockowany random\n",
      "6\n",
      "6\n",
      "6\n",
      "Po mockowaniu\n",
      "4\n",
      "5\n",
      "5\n"
     ]
    }
   ],
   "source": [
    "import random\n",
    "from unittest.mock import patch\n",
    "\n",
    "print('Przed mockowaniem')\n",
    "for i in range(3):\n",
    "    print(random.randint(1, 6))\n",
    "\n",
    "with patch('random.randint') as mock_random:\n",
    "    print('Zamockowany random')\n",
    "    mock_random.return_value = 6\n",
    "    for i in range(3):\n",
    "        print(random.randint(1, 6))\n",
    "        \n",
    "print('Po mockowaniu')\n",
    "for i in range(3):\n",
    "    print(random.randint(1, 6))\n"
   ]
  },
  {
   "cell_type": "code",
   "execution_count": 14,
   "metadata": {
    "slideshow": {
     "slide_type": "subslide"
    }
   },
   "outputs": [],
   "source": [
    "import random\n",
    "from unittest.mock import patch\n",
    "\n",
    "def get_bonus_points():\n",
    "    result = random.randint(1, 6)\n",
    "    if result == 6:\n",
    "        return 1\n",
    "    else:\n",
    "        return 0\n",
    "\n",
    "@patch('random.randint')\n",
    "def test_get_bonus_points_for_6(mock_random):\n",
    "    mock_random.return_value = 6\n",
    "\n",
    "    result = get_bonus_points()\n",
    "    \n",
    "    assert result == 1\n",
    "    assert mock_random.call_count == 1\n",
    "\n",
    "@patch('random.randint')\n",
    "def test_get_bonus_points_for_1(mock_random):\n",
    "    mock_random.return_value = 1\n",
    "    \n",
    "    result = get_bonus_points()\n",
    "    \n",
    "    assert result == 0\n",
    "    assert mock_random.call_count == 1\n",
    "\n",
    "    \n",
    "test_get_bonus_points_for_6()\n",
    "test_get_bonus_points_for_1()"
   ]
  },
  {
   "cell_type": "markdown",
   "metadata": {},
   "source": [
    "# Dzięki!\n",
    "\n",
    "# Pytania?"
   ]
  }
 ],
 "metadata": {
  "celltoolbar": "Slideshow",
  "kernelspec": {
   "display_name": "Python 3",
   "language": "python",
   "name": "python3"
  },
  "language_info": {
   "codemirror_mode": {
    "name": "ipython",
    "version": 3
   },
   "file_extension": ".py",
   "mimetype": "text/x-python",
   "name": "python",
   "nbconvert_exporter": "python",
   "pygments_lexer": "ipython3",
   "version": "3.6.1"
  }
 },
 "nbformat": 4,
 "nbformat_minor": 2
}
